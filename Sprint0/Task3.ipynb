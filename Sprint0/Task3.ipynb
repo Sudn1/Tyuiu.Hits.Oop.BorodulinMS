{
 "cells": [
  {
   "cell_type": "markdown",
   "metadata": {},
   "source": [
    "<h1 style=\"color:DodgerBlue\">Индивидальный проект</h1>"
   ]
  },
  {
   "cell_type": "markdown",
   "metadata": {},
   "source": [
    "<h2 style=\"color:DodgerBlue\">Название проекта:</h2>\n",
    "\n",
    "----\n",
    "\n",
    "### Вариант задания 3\n"
   ]
  },
  {
   "cell_type": "markdown",
   "metadata": {},
   "source": [
    "<h2 style=\"color:DodgerBlue\">Описание проекта:</h2>\n",
    "\n",
    "----\n",
    "Описание задачи:\n",
    "Создать базовый класс Employee в C#, который будет представлять информацию о\n",
    "сотрудниках компании. На основе этого класса разработать 2-3 производных\n",
    "класса, демонстрирующих принципы наследования и полиморфизма. В каждом из\n",
    "классов должны быть реализованы новые атрибуты и методы, а также\n",
    "переопределены некоторые методы базового класса для демонстрации\n",
    "полиморфизма.\n",
    "Требования к базовому классу Employee:\n",
    "• Атрибуты: Имя (Name), Возраст (Age), Зарплата (Salary).\n",
    "• Методы:\n",
    "o GetInfo(): метод для получения информации о сотруднике в виде\n",
    "строки.\n",
    "o Work(): метод для вывода сообщения о выполнении рабочих\n",
    "обязанностей.\n",
    "o TakeVacation(): метод для вывода сообщения о взятии отпуска.\n",
    "Требования к производным классам:\n",
    "1. Менеджер (Manager): Должен содержать дополнительные атрибуты, такие\n",
    "как Количество подчиненных (SubordinatesCount). Метод Work() должен быть\n",
    "переопределен для добавления информации о управлении командой.\n",
    "2. Разработчик (Developer): Должен содержать дополнительные атрибуты,\n",
    "такие как Специализация (Specialization). Метод TakeVacation() должен быть\n",
    "переопределен для добавления информации о необходимости согласования\n",
    "отпуска с проектными сроками.\n",
    "3. Дизайнер (Designer) (если требуется третий класс): Должен содержать\n",
    "дополнительные атрибуты, такие как Стиль дизайна (DesignStyle).\n",
    "Метод Work() должен быть переопределен для добавления информации о\n",
    "работе над дизайн-проектами.\n"
   ]
  },
  {
   "cell_type": "markdown",
   "metadata": {},
   "source": [
    "<h2 style=\"color:DodgerBlue\">Реализация:</h2>\n",
    "\n",
    "----"
   ]
  },
  {
   "cell_type": "code",
   "execution_count": 2,
   "metadata": {
    "dotnet_interactive": {
     "language": "csharp"
    },
    "polyglot_notebook": {
     "kernelName": "csharp"
    }
   },
   "outputs": [],
   "source": [
    "using System;\n",
    "\n",
    "public class Employee\n",
    "{\n",
    "    public string Name { get; set; }\n",
    "    public int Age { get; set; }\n",
    "    public decimal Salary { get; set; }\n",
    "\n",
    "    public Employee(string name, int age, decimal salary)\n",
    "    {\n",
    "        Name = name;\n",
    "        Age = age;\n",
    "        Salary = salary;\n",
    "    }\n",
    "\n",
    "    public virtual string GetInfo()\n",
    "    {\n",
    "        return $\"Employee: {Name}, Age: {Age}, Salary: {Salary}\";\n",
    "    }\n",
    "\n",
    "    public virtual void Work()\n",
    "    {\n",
    "        Console.WriteLine($\"{Name} is working.\");\n",
    "    }\n",
    "\n",
    "    public virtual void TakeVacation()\n",
    "    {\n",
    "        Console.WriteLine($\"{Name} is taking vacation.\");\n",
    "    }\n",
    "}\n",
    "\n",
    "public class Manager : Employee\n",
    "{\n",
    "    public int SubordinatesCount { get; set; }\n",
    "\n",
    "    public Manager(string name, int age, decimal salary, int subordinatesCount) \n",
    "        : base(name, age, salary)\n",
    "    {\n",
    "        SubordinatesCount = subordinatesCount;\n",
    "    }\n",
    "\n",
    "    public override void Work()\n",
    "    {\n",
    "        base.Work();\n",
    "        Console.WriteLine($\"Manager {Name} is managing {SubordinatesCount} subordinates.\");\n",
    "    }\n",
    "}\n",
    "\n",
    "public class Developer : Employee\n",
    "{\n",
    "    public string Specialization { get; set; }\n",
    "\n",
    "    public Developer(string name, int age, decimal salary, string specialization) \n",
    "        : base(name, age, salary)\n",
    "    {\n",
    "        Specialization = specialization;\n",
    "    }\n",
    "\n",
    "    public override void TakeVacation()\n",
    "    {\n",
    "        base.TakeVacation();\n",
    "        Console.WriteLine($\"{Name} needs to coordinate vacation with project deadlines.\");\n",
    "    }\n",
    "}\n",
    "\n",
    "public class Designer : Employee\n",
    "{\n",
    "    public string DesignStyle { get; set; }\n",
    "\n",
    "    public Designer(string name, int age, decimal salary, string designStyle) \n",
    "        : base(name, age, salary)\n",
    "    {\n",
    "        DesignStyle = designStyle;\n",
    "    }\n",
    "\n",
    "    public override void Work()\n",
    "    {\n",
    "        base.Work();\n",
    "        Console.WriteLine($\"Designer {Name} is working on {DesignStyle} style projects.\");\n",
    "    }\n",
    "}"
   ]
  }
 ],
 "metadata": {
  "kernelspec": {
   "display_name": ".NET (C#)",
   "language": "C#",
   "name": ".net-csharp"
  },
  "polyglot_notebook": {
   "kernelInfo": {
    "defaultKernelName": "csharp",
    "items": [
     {
      "aliases": [],
      "languageName": "csharp",
      "name": "csharp"
     }
    ]
   }
  }
 },
 "nbformat": 4,
 "nbformat_minor": 2
}
