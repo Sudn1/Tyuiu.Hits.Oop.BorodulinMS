{
 "cells": [
  {
   "cell_type": "markdown",
   "metadata": {},
   "source": [
    "<h1 style=\"color:DodgerBlue\">Индивидальный проект</h1>"
   ]
  },
  {
   "cell_type": "markdown",
   "metadata": {},
   "source": [
    "<h2 style=\"color:DodgerBlue\">Название проекта:</h2>\n",
    "\n",
    "----\n",
    "\n",
    "### Вариант задания 3\n"
   ]
  },
  {
   "cell_type": "markdown",
   "metadata": {},
   "source": [
    "<h2 style=\"color:DodgerBlue\">Описание проекта:</h2>\n",
    "\n",
    "----\n",
    "Описание задачи:\n",
    "Создать базовый класс Employee в C#, который будет представлять информацию о\n",
    "сотрудниках компании. На основе этого класса разработать 2-3 производных\n",
    "класса, демонстрирующих принципы наследования и полиморфизма. В каждом из\n",
    "классов должны быть реализованы новые атрибуты и методы, а также\n",
    "переопределены некоторые методы базового класса для демонстрации\n",
    "полиморфизма.\n",
    "Требования к базовому классу Employee:\n",
    "• Атрибуты: Имя (Name), Возраст (Age), Зарплата (Salary).\n",
    "• Методы:\n",
    "o GetInfo(): метод для получения информации о сотруднике в виде\n",
    "строки.\n",
    "o Work(): метод для вывода сообщения о выполнении рабочих\n",
    "обязанностей.\n",
    "o TakeVacation(): метод для вывода сообщения о взятии отпуска.\n",
    "Требования к производным классам:\n",
    "1. Менеджер (Manager): Должен содержать дополнительные атрибуты, такие\n",
    "как Количество подчиненных (SubordinatesCount). Метод Work() должен быть\n",
    "переопределен для добавления информации о управлении командой.\n",
    "2. Разработчик (Developer): Должен содержать дополнительные атрибуты,\n",
    "такие как Специализация (Specialization). Метод TakeVacation() должен быть\n",
    "переопределен для добавления информации о необходимости согласования\n",
    "отпуска с проектными сроками.\n",
    "3. Дизайнер (Designer) (если требуется третий класс): Должен содержать\n",
    "дополнительные атрибуты, такие как Стиль дизайна (DesignStyle).\n",
    "Метод Work() должен быть переопределен для добавления информации о\n",
    "работе над дизайн-проектами.\n"
   ]
  },
  {
   "cell_type": "markdown",
   "metadata": {},
   "source": [
    "<h2 style=\"color:DodgerBlue\">Реализация:</h2>\n",
    "\n",
    "----"
   ]
  },
  {
   "cell_type": "code",
   "execution_count": 2,
   "metadata": {
    "dotnet_interactive": {
     "language": "csharp"
    },
    "polyglot_notebook": {
     "kernelName": "csharp"
    }
   },
   "outputs": [
    {
     "name": "stdout",
     "output_type": "stream",
     "text": [
      "Имя: Матвей, Возраст: 19, Зарплата: 100000\n",
      "Матвей управляет командой из 3 подчиненных.\n",
      "Матвей взял отпуск.\n",
      "\n",
      "Имя: Артем, Возраст: 21, Зарплата: 60000\n",
      "Артем выполняет свои рабочие обязанности.\n",
      "Артем  хочет согласовать отпуск с проектными сроками.\n",
      "\n",
      "Имя: Кирилл, Возраст: 22, Зарплата: 70000\n",
      "Кирилл работает над дизайн-проектами в стиле HighTech.\n",
      "Кирилл взял отпуск.\n"
     ]
    }
   ],
   "source": [
    "using System;\n",
    "\n",
    "public class Employee\n",
    "{\n",
    "    // Атрибуты\n",
    "    public string Name { get; set; }\n",
    "    public int Age { get; set; }\n",
    "    public decimal Salary { get; set; }\n",
    "\n",
    "    // Конструктор\n",
    "    public Employee(string name, int age, decimal salary)\n",
    "    {\n",
    "        Name = name;\n",
    "        Age = age;\n",
    "        Salary = salary;\n",
    "    }\n",
    "\n",
    "    // Методы\n",
    "    public virtual string GetInfo()\n",
    "    {\n",
    "        return $\"Имя: {Name}, Возраст: {Age}, Зарплата: {Salary}\";\n",
    "    }\n",
    "\n",
    "    public virtual void Work()\n",
    "    {\n",
    "        Console.WriteLine($\"{Name} выполняет свои рабочие обязанности.\");\n",
    "    }\n",
    "\n",
    "    public virtual void TakeVacation()\n",
    "    {\n",
    "        Console.WriteLine($\"{Name} взял отпуск.\");\n",
    "    }\n",
    "}\n",
    "\n",
    "public class Manager : Employee\n",
    "{\n",
    "    // Дополнительный атрибут\n",
    "    public int SubordinatesCount { get; set; }\n",
    "\n",
    "    // Конструктор\n",
    "    public Manager(string name, int age, decimal salary, int subordinatesCount)\n",
    "        : base(name, age, salary)\n",
    "    {\n",
    "        SubordinatesCount = subordinatesCount;\n",
    "    }\n",
    "\n",
    "    // Переопределение метода Work\n",
    "    public override void Work()\n",
    "    {\n",
    "        Console.WriteLine($\"{Name} управляет командой из {SubordinatesCount} подчиненных.\");\n",
    "    }\n",
    "}\n",
    "\n",
    "public class Developer : Employee\n",
    "{\n",
    "    // Дополнительный атрибут\n",
    "    public string Specialization { get; set; }\n",
    "\n",
    "    // Конструктор\n",
    "    public Developer(string name, int age, decimal salary, string specialization)\n",
    "        : base(name, age, salary)\n",
    "    {\n",
    "        Specialization = specialization;\n",
    "    }\n",
    "\n",
    "    // Переопределение метода TakeVacation\n",
    "    public override void TakeVacation()\n",
    "    {\n",
    "        Console.WriteLine($\"{Name}  хочет согласовать отпуск с проектными сроками.\");\n",
    "    }\n",
    "}\n",
    "\n",
    "public class Designer : Employee\n",
    "{\n",
    "    // Дополнительный атрибут\n",
    "    public string DesignStyle { get; set; }\n",
    "\n",
    "    // Конструктор\n",
    "    public Designer(string name, int age, decimal salary, string designStyle)\n",
    "        : base(name, age, salary)\n",
    "    {\n",
    "        DesignStyle = designStyle;\n",
    "    }\n",
    "\n",
    "    // Переопределение метода Work\n",
    "    public override void Work()\n",
    "    {\n",
    "        Console.WriteLine($\"{Name} работает над дизайн-проектами в стиле {DesignStyle}.\");\n",
    "    }\n",
    "}\n",
    "Employee manager = new Manager(\"Матвей\", 19, 100000, 3);\n",
    "Employee developer = new Developer(\"Артем\", 21, 60000, \"Backend\");\n",
    "Employee designer = new Designer(\"Кирилл\", 22, 70000, \"HighTech\");\n",
    "\n",
    "Console.WriteLine(manager.GetInfo());\n",
    "manager.Work();\n",
    "manager.TakeVacation();\n",
    "\n",
    "Console.WriteLine();\n",
    "\n",
    "Console.WriteLine(developer.GetInfo());\n",
    "developer.Work();\n",
    "developer.TakeVacation();\n",
    "\n",
    "Console.WriteLine();\n",
    "\n",
    "Console.WriteLine(designer.GetInfo());\n",
    "designer.Work();\n",
    "designer.TakeVacation();\n"
   ]
  }
 ],
 "metadata": {
  "kernelspec": {
   "display_name": ".NET (C#)",
   "language": "C#",
   "name": ".net-csharp"
  },
  "polyglot_notebook": {
   "kernelInfo": {
    "defaultKernelName": "csharp",
    "items": [
     {
      "aliases": [],
      "languageName": "csharp",
      "name": "csharp"
     }
    ]
   }
  }
 },
 "nbformat": 4,
 "nbformat_minor": 2
}
